{
  "nbformat": 4,
  "nbformat_minor": 0,
  "metadata": {
    "colab": {
      "provenance": [],
      "include_colab_link": true
    },
    "kernelspec": {
      "name": "python3",
      "display_name": "Python 3"
    },
    "language_info": {
      "name": "python"
    }
  },
  "cells": [
    {
      "cell_type": "markdown",
      "metadata": {
        "id": "view-in-github",
        "colab_type": "text"
      },
      "source": [
        "<a href=\"https://colab.research.google.com/github/LisethTiria/Biosenales-2025-1/blob/main/practica_3_parte_2.ipynb\" target=\"_parent\"><img src=\"https://colab.research.google.com/assets/colab-badge.svg\" alt=\"Open In Colab\"/></a>"
      ]
    },
    {
      "source": [
        "# Importa las bibliotecas necesarias\n",
        "import numpy as np  # Para cálculos numéricos con matrices\n",
        "import pandas as pd  # Para el manejo y manipulación de datos con DataFrames\n",
        "import matplotlib.pyplot as plt  # Para crear visualizaciones\n",
        "import scipy.io as sio  # Para leer y escribir archivos de datos (por ejemplo, archivos .mat)\n",
        "import scipy.signal  # Para tareas de procesamiento de señales\n",
        "from scipy.signal import find_peaks  # Para la detección de picos en señales\n",
        "from scipy import signal # Para procesamiento de señales\n",
        "from scipy.stats import levene, ttest_ind, mannwhitneyu, shapiro  # Para pruebas estadísticas\n",
        "from google.colab import drive  # Para montar Google Drive en Colab\n",
        "import os  # Para interactuar con el sistema operativo (por ejemplo, rutas de archivos)\n",
        "from glob import glob  # Para encontrar archivos que coincidan con un patrón\n"
      ],
      "cell_type": "code",
      "metadata": {
        "id": "Mf_gYDfQdveR"
      },
      "execution_count": 14,
      "outputs": []
    },
    {
      "source": [
        "# Monta Google Drive para acceder a los archivos de datos\n",
        "from google.colab import drive\n",
        "drive.mount('/content/drive')"
      ],
      "cell_type": "code",
      "metadata": {
        "colab": {
          "base_uri": "https://localhost:8080/"
        },
        "id": "ainz2gUjdxjo",
        "outputId": "3c880a84-5550-4663-9dc9-e121c5f94aa2"
      },
      "execution_count": 15,
      "outputs": [
        {
          "output_type": "stream",
          "name": "stdout",
          "text": [
            "Drive already mounted at /content/drive; to attempt to forcibly remount, call drive.mount(\"/content/drive\", force_remount=True).\n"
          ]
        }
      ]
    },
    {
      "source": [
        "# Función para calcular la energía promedio por canal\n",
        "def energia_promedio_por_canal(signal):\n",
        "    \"\"\"\n",
        "    Calcula la energía promedio por canal de una señal multicanal y multiépoca.\n",
        "\n",
        "    Entrada:\n",
        "        - signal: ndarray de forma (n_canales, n_muestras, n_épocas)\n",
        "\n",
        "    Salida:\n",
        "        - Energías promedio por canal (matriz de tamaño n_canales)\n",
        "    \"\"\"\n",
        "    energia_por_epoca = np.sum(signal**2, axis=1)  # Energía por época, por canal\n",
        "    energia_promedio = np.mean(energia_por_epoca, axis=1)  # Promedio entre épocas\n",
        "    return energia_promedio"
      ],
      "cell_type": "code",
      "metadata": {
        "id": "f3YPy8b_d0Ho"
      },
      "execution_count": 16,
      "outputs": []
    },
    {
      "source": [
        "# Procesa los datos para el grupo de control\n",
        "carpeta = \"/content/drive/MyDrive/datos_senales_datos_parkinson_cursos/control\"  # Ruta a los datos del grupo de control\n",
        "archivos = glob(os.path.join(carpeta, \"*.mat\"))  # Obtiene todos los archivos .mat en la carpeta\n",
        "\n",
        "print(f\"{len(archivos)} archivos encontrados.\")  # Imprime el número de archivos encontrados\n",
        "\n",
        "def calcular_energia_promedio_por_canal(data):\n",
        "    \"\"\"Calcula la energía promedio por canal.\"\"\"\n",
        "    energia = np.mean(np.sum(data**2, axis=1), axis=1)\n",
        "    return energia\n",
        "\n",
        "lista_energias = []  # Almacena vectores de energía para cada sujeto\n",
        "nombres_sujetos = []  # Almacena los nombres de los sujetos\n",
        "\n",
        "for archivo in archivos:  # Itera a través de cada archivo\n",
        "    mat = scipy.io.loadmat(archivo)  # Carga datos del archivo .mat\n",
        "    if 'data' in mat:\n",
        "        data = mat['data']\n",
        "        energia = calcular_energia_promedio_por_canal(data)\n",
        "        lista_energias.append(energia)\n",
        "        nombre = os.path.basename(archivo).split('.')[0]\n",
        "        nombres_sujetos.append(nombre)\n",
        "    else:\n",
        "        print(f\" No se encontró la variable 'data' en {archivo}\")\n",
        "\n",
        "# Crea un DataFrame para las energías del grupo de control\n",
        "df_energias = pd.DataFrame(lista_energias, columns=[f'canal_{i+1}' for i in range(data.shape[0])])\n",
        "df_energias.index = nombres_sujetos\n",
        "df_energias.index.name = 'sujeto'\n",
        "print(df_energias.head())  # Muestra las primeras filas del DataFrame\n",
        "df_energias.to_csv(\"energia_sujetos_control.csv\")  # Guarda en CSV"
      ],
      "cell_type": "code",
      "metadata": {
        "colab": {
          "base_uri": "https://localhost:8080/"
        },
        "id": "FxRMP0Ssd5OQ",
        "outputId": "bd09b306-1e48-47a5-c5e4-8cf870454f56"
      },
      "execution_count": 17,
      "outputs": [
        {
          "output_type": "stream",
          "name": "stdout",
          "text": [
            "36 archivos encontrados.\n",
            "                              canal_1       canal_2       canal_3  \\\n",
            "sujeto                                                              \n",
            "C001R_EP_reposo          21465.650358  20985.907912  22760.149588   \n",
            "C002_EP_reposo           15966.402868  17617.810248  20804.937129   \n",
            "C004_EP_reposo           14148.673322  18283.999666  28749.932148   \n",
            "C005_EP_reposo_Repetido  35311.301696  34916.686010  38800.429029   \n",
            "C006_EP_reposo           18510.829979  19738.489375  20911.792748   \n",
            "\n",
            "                              canal_4       canal_5        canal_6  \\\n",
            "sujeto                                                               \n",
            "C001R_EP_reposo          18505.640284  29730.163026   25244.158073   \n",
            "C002_EP_reposo           19654.400017  16678.982063   93894.049009   \n",
            "C004_EP_reposo           14270.726911  28787.445978   14661.417740   \n",
            "C005_EP_reposo_Repetido  35427.031127  35905.472869  106598.128152   \n",
            "C006_EP_reposo           21828.254399  23351.992649   53086.059766   \n",
            "\n",
            "                               canal_7        canal_8  \n",
            "sujeto                                                 \n",
            "C001R_EP_reposo           22781.327587   24658.599512  \n",
            "C002_EP_reposo            66862.496275   75685.125872  \n",
            "C004_EP_reposo            15940.154095   19499.898656  \n",
            "C005_EP_reposo_Repetido  106885.575966  112520.750636  \n",
            "C006_EP_reposo            37495.972475   43067.095504  \n"
          ]
        }
      ]
    },
    {
      "source": [
        "# Procesa los datos para el grupo de Parkinson (similar al grupo de control)\n",
        "carpeta2 = \"/content/drive/MyDrive/datos_senales_datos_parkinson_cursos/parkinson\"\n",
        "archivos2 = glob(os.path.join(carpeta2, \"*.mat\"))\n",
        "\n",
        "print(f\"{len(archivos2)} archivos encontrados.\")\n",
        "\n",
        "def calcular_energia_promedio_por_canal(data):\n",
        "    \"\"\"Calcula la energía promedio por canal.\"\"\"\n",
        "    energia2 = np.mean(np.sum(data**2, axis=1), axis=1)\n",
        "    return energia2\n",
        "\n",
        "lista_energias2 = []\n",
        "nombres_sujetos2 = []\n",
        "\n",
        "for archivo2 in archivos2:\n",
        "    mat = scipy.io.loadmat(archivo2)\n",
        "    if 'data' in mat:\n",
        "        data2 = mat['data']\n",
        "        energia2 = calcular_energia_promedio_por_canal(data2)\n",
        "        lista_energias2.append(energia2)\n",
        "        nombre2 = os.path.basename(archivo2).split('.')[0]\n",
        "        nombres_sujetos2.append(nombre2)\n",
        "    else:\n",
        "        print(f\"⚠️ No se encontró la variable 'data' en {archivo2}\")\n",
        "\n",
        "# Crea un DataFrame para las energías del grupo de Parkinson\n",
        "df_energias2 = pd.DataFrame(lista_energias2, columns=[f'canal_{i+1}' for i in range(data2.shape[0])])\n",
        "df_energias2.index = nombres_sujetos2\n",
        "df_energias2.index.name = 'sujeto'\n",
        "print(df_energias2.head())\n",
        "df_energias2.to_csv(\"energia_sujetos_parkinson.csv\")"
      ],
      "cell_type": "code",
      "metadata": {
        "colab": {
          "base_uri": "https://localhost:8080/"
        },
        "id": "cnW4Iaiyd-QX",
        "outputId": "3125362b-201b-49c6-99da-22ec54ef685c"
      },
      "execution_count": 18,
      "outputs": [
        {
          "output_type": "stream",
          "name": "stdout",
          "text": [
            "23 archivos encontrados.\n",
            "                     canal_1       canal_2       canal_3       canal_4  \\\n",
            "sujeto                                                                   \n",
            "P001_EP_reposo  12438.243570  11261.175800  10819.634775   9489.784462   \n",
            "P004_EP_reposo  17995.660058  12001.601821  12286.344400  14785.908284   \n",
            "P005_EP_reposo  38092.102574  43575.379457  41979.994799  41715.287990   \n",
            "P007_EP_reposo  23742.325612  22070.007569  24540.315612  21803.936448   \n",
            "P012_EP_reposo  48574.518921  51806.529769  73171.952374  59707.699631   \n",
            "\n",
            "                     canal_5        canal_6        canal_7        canal_8  \n",
            "sujeto                                                                     \n",
            "P001_EP_reposo  12091.060945   22798.213463   23700.620349   25606.065340  \n",
            "P004_EP_reposo  17058.433161   63983.449318   53715.460772   66403.639479  \n",
            "P005_EP_reposo  46513.737045  251649.394709  179345.438488  262361.180410  \n",
            "P007_EP_reposo  22594.339745  128314.264805  128888.485633  152799.284248  \n",
            "P012_EP_reposo  56552.175747  287105.761622  222745.793414  353312.298104  \n"
          ]
        }
      ]
    },
    {
      "source": [
        "# Realiza una comparación estadística entre los grupos\n",
        "\n",
        "\n",
        "df_control = pd.read_csv('/content/energia_sujetos_control.csv')  # Carga los datos del grupo de control\n",
        "df_parkinson = pd.read_csv('/content/energia_sujetos_parkinson.csv')  # Carga los datos del grupo de Parkinson\n",
        "\n",
        "canales = df_control.columns.intersection(df_parkinson.columns).drop('sujeto', errors='ignore')  # Obtiene los canales comunes\n",
        "resultados = []  # Almacena los resultados de la prueba estadística\n",
        "\n",
        "for canal in canales:  # Itera a través de cada canal\n",
        "    grupo1 = df_control[canal].dropna()\n",
        "    grupo2 = df_parkinson[canal].dropna()\n",
        "\n",
        "    # Prueba de normalidad (Shapiro-Wilk)\n",
        "    p_norm1 = shapiro(grupo1).pvalue\n",
        "    p_norm2 = shapiro(grupo2).pvalue\n",
        "    normal1 = p_norm1 > 0.05\n",
        "    normal2 = p_norm2 > 0.05\n",
        "\n",
        "    # Prueba de homogeneidad de varianzas (Levene)\n",
        "    p_levene = levene(grupo1, grupo2).pvalue\n",
        "    iguales_varianzas = p_levene > 0.05\n",
        "\n",
        "    # Elige la prueba estadística apropiada\n",
        "    if normal1 and normal2 and iguales_varianzas:\n",
        "        stat, p_valor = ttest_ind(grupo1, grupo2, equal_var=True)\n",
        "        prueba = \"t (varianzas iguales)\"\n",
        "    elif normal1 and normal2:\n",
        "        stat, p_valor = ttest_ind(grupo1, grupo2, equal_var=False)\n",
        "        prueba = \"t de Welch\"\n",
        "    else:\n",
        "        stat, p_valor = mannwhitneyu(grupo1, grupo2, alternative='two-sided')\n",
        "        prueba = \"mann-whitney\"\n",
        "\n",
        "    resultados.append({\n",
        "        \"canal\": canal,\n",
        "        \"p_normal_control\": p_norm1,\n",
        "        \"p_normal_parkinson\": p_norm2,\n",
        "        \"p_levene\": p_levene,\n",
        "        \"prueba_usada\": prueba,\n",
        "        \"p_valor\": p_valor,\n",
        "        \"diferencia_significativa\": p_valor < 0.05\n",
        "    })\n",
        "\n",
        "# Crea un DataFrame de resultados\n",
        "df_resultados = pd.DataFrame(resultados)\n",
        "\n",
        "# Muestra los canales con diferencias significativas\n",
        "print(\"\\nCanales con diferencia significativa entre grupos:\")\n",
        "print(df_resultados[df_resultados[\"diferencia_significativa\"]][[\"canal\", \"prueba_usada\", \"p_valor\"]])\n",
        "\n",
        "# Guarda los resultados en CSV\n",
        "df_resultados.to_csv(\"comparacion_estadistica_entre_grupos1.csv\", index=False)"
      ],
      "cell_type": "code",
      "metadata": {
        "colab": {
          "base_uri": "https://localhost:8080/"
        },
        "id": "EEUp7VUXeCBY",
        "outputId": "b0097394-c7f9-4a92-e2b0-0d0f1f153750"
      },
      "execution_count": 19,
      "outputs": [
        {
          "output_type": "stream",
          "name": "stdout",
          "text": [
            "\n",
            "Canales con diferencia significativa entre grupos:\n",
            "Empty DataFrame\n",
            "Columns: [canal, prueba_usada, p_valor]\n",
            "Index: []\n"
          ]
        }
      ]
    }
  ]
}