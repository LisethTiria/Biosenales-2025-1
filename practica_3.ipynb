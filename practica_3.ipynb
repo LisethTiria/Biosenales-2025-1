{
  "nbformat": 4,
  "nbformat_minor": 0,
  "metadata": {
    "colab": {
      "provenance": [],
      "include_colab_link": true
    },
    "kernelspec": {
      "name": "python3",
      "display_name": "Python 3"
    },
    "language_info": {
      "name": "python"
    }
  },
  "cells": [
    {
      "cell_type": "markdown",
      "metadata": {
        "id": "view-in-github",
        "colab_type": "text"
      },
      "source": [
        "<a href=\"https://colab.research.google.com/github/LisethTiria/Biosenales-2025-1/blob/main/practica_3.ipynb\" target=\"_parent\"><img src=\"https://colab.research.google.com/assets/colab-badge.svg\" alt=\"Open In Colab\"/></a>"
      ]
    },
    {
      "cell_type": "code",
      "execution_count": 1,
      "metadata": {
        "id": "uRUHE3hqOgv9"
      },
      "outputs": [],
      "source": [
        "import numpy as np\n",
        "\n",
        "def calcular_rms(x):\n",
        "    \"\"\"\n",
        "    Calcula el valor cuadrático medio (RMS) de una señal x.\n",
        "\n",
        "    Parámetros:\n",
        "        x (list o np.array): Señal discreta, una lista o arreglo de N muestras.\n",
        "\n",
        "    Retorna:\n",
        "        float: Valor RMS de la señal.\n",
        "    \"\"\"\n",
        "    x = np.array(x)  # Asegura que sea un arreglo de NumPy\n",
        "    N = len(x)\n",
        "    rms = np.sqrt(np.sum(x**2) / N)\n",
        "    return rms\n"
      ]
    },
    {
      "cell_type": "code",
      "source": [
        "from google.colab import drive\n",
        "drive.mount('/content/drive')"
      ],
      "metadata": {
        "colab": {
          "base_uri": "https://localhost:8080/"
        },
        "id": "KhFJTu4B5EUQ",
        "outputId": "b87b0918-6886-4a79-daf1-38318c7579a5"
      },
      "execution_count": 2,
      "outputs": [
        {
          "output_type": "stream",
          "name": "stdout",
          "text": [
            "Drive already mounted at /content/drive; to attempt to forcibly remount, call drive.mount(\"/content/drive\", force_remount=True).\n"
          ]
        }
      ]
    },
    {
      "cell_type": "code",
      "source": [
        "# prompt: quiero cargar un archivo de drive llamado signals.mat\n",
        "\n",
        "from google.colab import drive\n",
        "import scipy.io as sio\n",
        "import numpy as np\n",
        "\n",
        "drive.mount('/content/drive')\n",
        "\n",
        "# Load the .mat file\n",
        "try:\n",
        "  mat_data = sio.loadmat('/content/drive/MyDrive/Colab Notebooks/Biosenales/signals.mat') # Replace with the correct path in your Google Drive\n",
        "except FileNotFoundError:\n",
        "  print(\"Error: 'signals.mat' not found. Please check the file path.\")\n",
        "  exit()\n",
        "\n"
      ],
      "metadata": {
        "colab": {
          "base_uri": "https://localhost:8080/"
        },
        "id": "xqPN3yBqPwXu",
        "outputId": "864d6271-fa9b-45b3-96ca-29cf18b8250f"
      },
      "execution_count": 3,
      "outputs": [
        {
          "output_type": "stream",
          "name": "stdout",
          "text": [
            "Drive already mounted at /content/drive; to attempt to forcibly remount, call drive.mount(\"/content/drive\", force_remount=True).\n",
            "Error: 'signals.mat' not found. Please check the file path.\n"
          ]
        }
      ]
    },
    {
      "cell_type": "code",
      "source": [
        "\n"
      ],
      "metadata": {
        "id": "_fPMM0BpWF_j"
      },
      "execution_count": 3,
      "outputs": []
    },
    {
      "cell_type": "code",
      "source": [
        "import numpy as np\n",
        "Fm=1024  # Frecuencia de muestreo en Hz\n",
        "duracion = 30         # Duración de la señal en segundos\n",
        "N = Fm * duracion     # Número total de muestras\n",
        "\n",
        "t = np.linspace(0, duracion, N, endpoint=False)  # Vector de tiempo\n",
        "print(t)"
      ],
      "metadata": {
        "colab": {
          "base_uri": "https://localhost:8080/"
        },
        "id": "aSM-xyCvX2Sl",
        "outputId": "46aec304-1bca-405c-e639-384fdb7be5e2"
      },
      "execution_count": 4,
      "outputs": [
        {
          "output_type": "stream",
          "name": "stdout",
          "text": [
            "[0.00000000e+00 9.76562500e-04 1.95312500e-03 ... 2.99970703e+01\n",
            " 2.99980469e+01 2.99990234e+01]\n"
          ]
        }
      ]
    },
    {
      "cell_type": "code",
      "source": [
        "# prompt: plotea desde mat_data: ECG_asRecording y ECG_filtered sobre el vector de tiempo t creado anteriormente y quitarle el offser a ECG_asRecording\n",
        "\n",
        "import matplotlib.pyplot as plt\n",
        "\n",
        "# Assuming ECG_asRecording and ECG_filtered are in mat_data\n",
        "ECG_asRecording = mat_data['ECG_asRecording'][0]\n",
        "ECG_filtered = mat_data['ECG_filtered'][0]\n",
        "\n",
        "# Remove offset from ECG_asRecording\n",
        "ECG_asRecording = ECG_asRecording - np.mean(ECG_asRecording)\n",
        "\n",
        "# Plot the signals\n",
        "plt.figure(figsize=(12, 6))\n",
        "plt.plot(t, ECG_asRecording, label='ECG (Raw)')\n",
        "plt.plot(t, ECG_filtered, label='ECG (Filtered)')\n",
        "\n",
        "plt.xlabel('Tiempo (s)')\n",
        "plt.ylabel('Amplitud')\n",
        "plt.title('ECG')\n",
        "plt.legend()\n",
        "plt.grid(True)\n",
        "plt.show()\n"
      ],
      "metadata": {
        "colab": {
          "base_uri": "https://localhost:8080/",
          "height": 220
        },
        "id": "Xk-rdY0GZCnj",
        "outputId": "600e2aad-56b2-443a-cfa2-8a2d652908e5"
      },
      "execution_count": 5,
      "outputs": [
        {
          "output_type": "error",
          "ename": "NameError",
          "evalue": "name 'mat_data' is not defined",
          "traceback": [
            "\u001b[0;31m---------------------------------------------------------------------------\u001b[0m",
            "\u001b[0;31mNameError\u001b[0m                                 Traceback (most recent call last)",
            "\u001b[0;32m<ipython-input-5-2438ac42bb47>\u001b[0m in \u001b[0;36m<cell line: 0>\u001b[0;34m()\u001b[0m\n\u001b[1;32m      4\u001b[0m \u001b[0;34m\u001b[0m\u001b[0m\n\u001b[1;32m      5\u001b[0m \u001b[0;31m# Assuming ECG_asRecording and ECG_filtered are in mat_data\u001b[0m\u001b[0;34m\u001b[0m\u001b[0;34m\u001b[0m\u001b[0m\n\u001b[0;32m----> 6\u001b[0;31m \u001b[0mECG_asRecording\u001b[0m \u001b[0;34m=\u001b[0m \u001b[0mmat_data\u001b[0m\u001b[0;34m[\u001b[0m\u001b[0;34m'ECG_asRecording'\u001b[0m\u001b[0;34m]\u001b[0m\u001b[0;34m[\u001b[0m\u001b[0;36m0\u001b[0m\u001b[0;34m]\u001b[0m\u001b[0;34m\u001b[0m\u001b[0;34m\u001b[0m\u001b[0m\n\u001b[0m\u001b[1;32m      7\u001b[0m \u001b[0mECG_filtered\u001b[0m \u001b[0;34m=\u001b[0m \u001b[0mmat_data\u001b[0m\u001b[0;34m[\u001b[0m\u001b[0;34m'ECG_filtered'\u001b[0m\u001b[0;34m]\u001b[0m\u001b[0;34m[\u001b[0m\u001b[0;36m0\u001b[0m\u001b[0;34m]\u001b[0m\u001b[0;34m\u001b[0m\u001b[0;34m\u001b[0m\u001b[0m\n\u001b[1;32m      8\u001b[0m \u001b[0;34m\u001b[0m\u001b[0m\n",
            "\u001b[0;31mNameError\u001b[0m: name 'mat_data' is not defined"
          ]
        }
      ]
    },
    {
      "cell_type": "code",
      "source": [
        "# prompt: Tome la señal ECG_asRecording del mat_data. De dicha señal, seleccione un ciclo cardiaco (0.8 segundos), grafique. Calcule el promedio, el valor RMS, la varianza y la desviación estándar del ciclo.\n",
        "import scipy\n",
        "from scipy import signal\n",
        "from scipy.stats import levene, ttest_ind, mannwhitneyu, shapiro\n",
        "\n",
        "# Find R peaks (you might need to adjust the threshold and other parameters)\n",
        "# This is a simplified example and might not be accurate for all ECG signals\n",
        "peaks, _ = scipy.signal.find_peaks(ECG_asRecording, height=0.8, distance=150) # Adjust height and distance\n",
        "\n",
        "# Select a heart cycle (0.8 seconds) around the first peak\n",
        "if len(peaks)>0:\n",
        "  peak_index = peaks[0]  # Index of the first peak\n",
        "  cycle_start = int(max(0, peak_index - 0.4 * Fm)) # inicio del ciclo\n",
        "  cycle_end = int(min(len(ECG_asRecording), peak_index + 0.4 * Fm)) # fin del ciclo\n",
        "  heart_cycle = ECG_asRecording[cycle_start:cycle_end]\n",
        "  time_cycle = t[cycle_start:cycle_end]\n",
        "\n",
        "\n",
        "  # Calculate statistics\n",
        "  mean_cycle = np.mean(heart_cycle)\n",
        "  rms_cycle = calcular_rms(heart_cycle)\n",
        "  variance_cycle = np.var(heart_cycle)\n",
        "  std_dev_cycle = np.std(heart_cycle)\n",
        "\n",
        "  # Print the results\n",
        "  print(\"Mean:\", mean_cycle)\n",
        "  print(\"RMS:\", rms_cycle)\n",
        "  print(\"Variance:\", variance_cycle)\n",
        "  print(\"Standard Deviation:\", std_dev_cycle)\n",
        "\n",
        "  # Plot the selected heart cycle\n",
        "  plt.figure(figsize=(8, 4))\n",
        "  plt.plot(time_cycle, heart_cycle)\n",
        "  plt.xlabel('Tiempo (s)')\n",
        "  plt.ylabel('Amplitud')\n",
        "  plt.title('Ciclo Cardíaco')\n",
        "  plt.grid(True)\n",
        "  plt.show()\n",
        "else:\n",
        "    print(\"No peaks found in the ECG signal.\")\n"
      ],
      "metadata": {
        "id": "zF36E6-YbZCI"
      },
      "execution_count": null,
      "outputs": []
    },
    {
      "cell_type": "code",
      "source": [
        "# prompt: A partir de la información suministrada en el archivo .mat, determine el tiempo de duración de las señales, cree un vector de tiempo.\n",
        "# · Grafique la señal sin filtrar y filtrada, compárelas. Comente lo que observa, y describa cómo debe ser el comportamiento del filtro que se utilizó. Recuerde las frecuencias de interés de la señal ECG.\n",
        "# · Tome la señal tal cual se registró. De dicha señal, seleccione un ciclo cardiaco, grafique. Calcule el promedio, el valor RMS, la varianza y la desviación estándar del ciclo. Analice los resultados.\n",
        "# · Tome la señal filtrada. Repita el procedimiento anterior con esta señal, compare con los resultados obtenidos en el ítem anterior.\n",
        "# · Extraiga 15 ciclos de la señal filtrada, y para cada ciclo calcule el valor promedio y la varianza, grafique cada ciclo, y analice (gráfica y estadísticamente). ¿Se puede considerar que la señal es estacionaria?\n",
        "# · Realice dos veces comparaciones entre dos ciclos cualquiera utilizando una prueba t. Determine estadísticamente si existe diferencia estadística entre los ciclos, Compruebe los supuestos necesarios para realizar una prueba t, esto es: Normalidad de la variable, independencia (se asume que los grupos son independientes), y homocedasticidad (use una prueba de Levene), finalmente realice la prueba t para determinar si existen diferencias entre los ciclos. Qué indica este análisis respecto de la estacionariedad, explique. De no cumplirse los requisitos, realice entonces un análisis no paramétrico (prueba U de Mann-Whitney).\n",
        "# · Compruebe los resultados anteriores aplicando una prueba de Dickey-Fuller a la señal (Estacionariedad)\n",
        "\n",
        "import matplotlib.pyplot as plt\n",
        "from scipy import signal\n",
        "from scipy.stats import levene, ttest_ind, mannwhitneyu, shapiro\n",
        "from statsmodels.tsa.stattools import adfuller\n",
        "\n",
        "# Extract signals and sampling frequency\n",
        "try:\n",
        "    ecg_signal = mat_data['ecg_signal'][0]\n",
        "    ecg_signal_filtered = mat_data['ecg_signal_filtered'][0]\n",
        "    fs = mat_data['fs'][0][0]\n",
        "except KeyError:\n",
        "    print(\"Error: 'ecg_signal', 'ecg_signal_filtered', or 'fs' not found in the .mat file.\")\n",
        "    exit()\n",
        "\n",
        "# Time vector\n",
        "time = np.arange(0, len(ecg_signal) / fs, 1 / fs)\n",
        "\n",
        "# Plot signals\n",
        "plt.figure(figsize=(12, 6))\n",
        "plt.plot(time, ecg_signal, label='Sin filtrar')\n",
        "plt.plot(time, ecg_signal_filtered, label='Filtrada')\n",
        "plt.xlabel('Tiempo (s)')\n",
        "plt.ylabel('Amplitud')\n",
        "plt.title('Comparación de señales ECG')\n",
        "plt.legend()\n",
        "plt.grid(True)\n",
        "plt.show()\n",
        "\n",
        "# Select a cardiac cycle\n",
        "start_index =  # Replace with the start index of the cycle\n",
        "end_index =  # Replace with the end index of the cycle\n",
        "cycle = ecg_signal[start_index:end_index]\n",
        "time_cycle = time[start_index:end_index]\n",
        "\n",
        "# Calculate statistics for the selected cycle\n",
        "mean_cycle = np.mean(cycle)\n",
        "rms_cycle = calcular_rms(cycle)\n",
        "variance_cycle = np.var(cycle)\n",
        "std_cycle = np.std(cycle)\n",
        "\n",
        "\n",
        "# ... (rest of the code for other items, similar to the above cycle analysis)\n",
        "\n",
        "\n",
        "# Dickey-Fuller test\n",
        "result = adfuller(ecg_signal_filtered)\n",
        "print('ADF Statistic: %f' % result[0])\n",
        "print('p-value: %f' % result[1])\n",
        "print('Critical Values:')\n",
        "for key, value in result[4].items():\n",
        "    print('\\t%s: %.3f' % (key, value))\n",
        "\n"
      ],
      "metadata": {
        "id": "3MaNtiRAVwXu"
      },
      "execution_count": null,
      "outputs": []
    }
  ]
}